{
 "cells": [
  {
   "cell_type": "markdown",
   "metadata": {},
   "source": [
    "## Q2: Histograms\n",
    "Here we will read in columns of numbers from a file and create a histogram, using NumPy routines. Make sure you have the data file \"sample.txt\" in the same directory as this notebook. You download it from https://raw.githubusercontent.com/sbu-python-summer/python-tutorial/master/day-3/sample.txt."
   ]
  },
  {
   "cell_type": "code",
   "execution_count": 3,
   "metadata": {},
   "outputs": [],
   "source": [
    "import requests\n",
    "import numpy as np"
   ]
  },
  {
   "cell_type": "markdown",
   "metadata": {},
   "source": [
    "* Use python to download a file! Check out the requests package"
   ]
  },
  {
   "cell_type": "code",
   "execution_count": 6,
   "metadata": {},
   "outputs": [
    {
     "name": "stdout",
     "output_type": "stream",
     "text": [
      "File downloaded successfully\n"
     ]
    }
   ],
   "source": [
    "url = 'https://raw.githubusercontent.com/sbu-python-summer/python-tutorial/master/day-3/sample.txt'\n",
    "\n",
    "response = requests.get(url)\n",
    "sample = 'sample.txt'\n",
    "\n",
    "if response.status_code == 200:\n",
    "    with open(sample, 'wb') as file:\n",
    "        file.write(response.content)\n",
    "    print('File downloaded successfully')\n",
    "else:\n",
    "    print('Failed to download file')"
   ]
  },
  {
   "cell_type": "markdown",
   "metadata": {},
   "source": [
    "* Use np.loadtxt() to read this file in."
   ]
  },
  {
   "cell_type": "code",
   "execution_count": 9,
   "metadata": {},
   "outputs": [],
   "source": [
    "arr = np.loadtxt(sample)"
   ]
  },
  {
   "cell_type": "markdown",
   "metadata": {},
   "source": [
    "* Next, use np.histogram() to create a histogram array. The output returns both the count and an array of edges."
   ]
  },
  {
   "cell_type": "code",
   "execution_count": 12,
   "metadata": {},
   "outputs": [
    {
     "name": "stdout",
     "output_type": "stream",
     "text": [
      "count: [ 3  4  9 22 22 22  9  7  1  1] \n",
      "edges: [-30.58842789 -23.67009726 -16.75176662  -9.83343599  -2.91510536\n",
      "   4.00322527  10.9215559   17.83988653  24.75821717  31.6765478\n",
      "  38.59487843]\n"
     ]
    }
   ],
   "source": [
    "count, edges = np.histogram(arr[:,1])\n",
    "print(\"count:\", count, \"\\nedges:\", edges)"
   ]
  },
  {
   "cell_type": "markdown",
   "metadata": {},
   "source": [
    "* Finally, loop over the bins and print out the bin center (averaging the left and right edges of the bin) and the count for that bin."
   ]
  },
  {
   "cell_type": "code",
   "execution_count": 15,
   "metadata": {},
   "outputs": [
    {
     "name": "stdout",
     "output_type": "stream",
     "text": [
      "average bin: -27.129262572005736 count: 3\n",
      "average bin: -20.21093194037355 count: 4\n",
      "average bin: -13.29260130874136 count: 9\n",
      "average bin: -6.374270677109173 count: 22\n",
      "average bin: 0.5440599545230143 count: 22\n",
      "average bin: 7.462390586155202 count: 22\n",
      "average bin: 14.38072121778739 count: 9\n",
      "average bin: 21.299051849419577 count: 7\n",
      "average bin: 28.217382481051764 count: 1\n",
      "average bin: 35.135713112683945 count: 1\n"
     ]
    }
   ],
   "source": [
    "medbin = (edges[:-1] + edges[1:])/2\n",
    "for m,c in zip(medbin, count):\n",
    "    print(\"average bin:\", m, \"count:\", c)"
   ]
  },
  {
   "cell_type": "code",
   "execution_count": null,
   "metadata": {},
   "outputs": [],
   "source": []
  }
 ],
 "metadata": {
  "kernelspec": {
   "display_name": "Python [conda env:base] *",
   "language": "python",
   "name": "conda-base-py"
  },
  "language_info": {
   "codemirror_mode": {
    "name": "ipython",
    "version": 3
   },
   "file_extension": ".py",
   "mimetype": "text/x-python",
   "name": "python",
   "nbconvert_exporter": "python",
   "pygments_lexer": "ipython3",
   "version": "3.12.3"
  }
 },
 "nbformat": 4,
 "nbformat_minor": 4
}
