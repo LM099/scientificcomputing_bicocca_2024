{
 "cells": [
  {
   "cell_type": "markdown",
   "id": "4edc6e03-d67d-4cd7-886c-7d521760c57d",
   "metadata": {},
   "source": [
    "## Q5: Foxes and dogs\n",
    "\n",
    "### Part 1. Short words\n",
    "\n",
    "Let's practice functions.  Here's a simple function that takes a string and returns a list of all the 4 letter words, Write a version of this function that takes a second argument, n, that is the word length we want to search for:"
   ]
  },
  {
   "cell_type": "code",
   "execution_count": 3,
   "id": "a888b1fe-b638-478f-b4be-7cbb55ae94d1",
   "metadata": {},
   "outputs": [],
   "source": [
    "def four_letter_words(message, n):\n",
    "    words = message.split()\n",
    "    four_letters = [w for w in words if len(w) == n]\n",
    "    return four_letters"
   ]
  },
  {
   "cell_type": "code",
   "execution_count": 19,
   "id": "155c22ca-fcf2-4725-a663-210f5de7ff80",
   "metadata": {},
   "outputs": [
    {
     "name": "stdout",
     "output_type": "stream",
     "text": [
      "['quick', 'brown', 'jumps']\n"
     ]
    }
   ],
   "source": [
    "n = 5\n",
    "message = \"The quick brown fox jumps over the lazy dog.\"\n",
    "print(four_letter_words(message, n))"
   ]
  },
  {
   "cell_type": "markdown",
   "id": "5f7c4bb2-0391-4ec4-be0b-df8b3ea663ac",
   "metadata": {},
   "source": [
    "### Part 2: Panagrams\n",
    "\n",
    "A _panagram_ is a sentence that includes all 26 letters of the alphabet, e.g., \"_The quick brown fox jumps over the lazy dog_.\"\n",
    "\n",
    "Write a function that takes as an argument a sentence and returns `True` or `False`, indicating whether the sentence is a panagram."
   ]
  },
  {
   "cell_type": "code",
   "execution_count": 15,
   "id": "ce46671e-d52d-4a12-8e74-8016182798fa",
   "metadata": {},
   "outputs": [],
   "source": [
    "def panagram(message):\n",
    "    alfabeto = \"abcdefghijklmnopqrstuvwxyz\"\n",
    "    message = message.lower()\n",
    "    for w in alfabeto:\n",
    "        if w not in message:\n",
    "            return False\n",
    "    return True"
   ]
  },
  {
   "cell_type": "code",
   "execution_count": 17,
   "id": "a420ba2a-7c94-42bf-8550-dae379b86d66",
   "metadata": {},
   "outputs": [
    {
     "name": "stdout",
     "output_type": "stream",
     "text": [
      "The sentence is not a panagram\n"
     ]
    }
   ],
   "source": [
    "print(\"The sentence is a panagram\" if panagram(message) else \"The sentence is not a panagram\")"
   ]
  },
  {
   "cell_type": "code",
   "execution_count": null,
   "id": "ff7fc0f5-bb40-48c5-846a-669f5fb519b0",
   "metadata": {},
   "outputs": [],
   "source": []
  }
 ],
 "metadata": {
  "kernelspec": {
   "display_name": "Python [conda env:base] *",
   "language": "python",
   "name": "conda-base-py"
  },
  "language_info": {
   "codemirror_mode": {
    "name": "ipython",
    "version": 3
   },
   "file_extension": ".py",
   "mimetype": "text/x-python",
   "name": "python",
   "nbconvert_exporter": "python",
   "pygments_lexer": "ipython3",
   "version": "3.12.3"
  }
 },
 "nbformat": 4,
 "nbformat_minor": 5
}
