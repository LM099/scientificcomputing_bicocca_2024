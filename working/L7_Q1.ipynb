{
 "cells": [
  {
   "cell_type": "markdown",
   "id": "98b00887-a55a-4c2c-943b-7ca7afd93787",
   "metadata": {},
   "source": [
    "## Q1: The stock market\n",
    "\n",
    "(This is about numba)\n",
    "\n",
    "A Markov Chain is defined as a sequence of random variables where a parameter depends *only* on the preceding value. This is a crucial tool in statistics, widely used in science and beyond (economics for instance).\n",
    "\n",
    "For instance, the stock market has phases of growing prices (bull), dreasing prices (bear) and recession. This would be a Markov Chain model:\n",
    "\n",
    "![](https://upload.wikimedia.org/wikipedia/commons/thumb/9/95/Finance_Markov_chain_example_state_space.svg/400px-Finance_Markov_chain_example_state_space.svg.png)\n",
    "\n",
    "where the numbers on the arrows indicate the probability that the next day will be in a given state.\n",
    "\n",
    "Your task is to simulate the stock market according to this rule. Start from a random state and simulate many many  iterations. If your code is right, the fraction of days in each state should converge. \n",
    "\n",
    "Implement a pure-python version and a numba version, and compare speeds. \n"
   ]
  },
  {
   "cell_type": "code",
   "execution_count": 143,
   "id": "8dccdc82-9332-4174-8d1b-8bade56ba737",
   "metadata": {},
   "outputs": [],
   "source": [
    "import numpy as np\n",
    "import time\n",
    "from numba import njit"
   ]
  },
  {
   "cell_type": "code",
   "execution_count": 145,
   "id": "fe45b76c-d704-4b0a-890d-867b611713d6",
   "metadata": {},
   "outputs": [],
   "source": [
    "# Define the probability of the transition matrix\n",
    "probability = np.array([\n",
    "    [0.7, 0.2, 0.1],  # Bull -> Bull, Bull -> Bear, Bull -> Recession\n",
    "    [0.3, 0.6, 0.1],  # Bear -> Bull, Bear -> Bear, Bear -> Recession\n",
    "    [0.3, 0.2, 0.5]   # Recession -> Bull, Recession -> Bear, Recession -> Recession\n",
    "])\n",
    "\n",
    "# States:\n",
    "states = np.array([0, 1, 2]) # [\"Bull\", \"Bear\", \"Recession\"]"
   ]
  },
  {
   "cell_type": "code",
   "execution_count": 147,
   "id": "ac75fd8e-19c8-4034-b7f1-7a29fd8cff26",
   "metadata": {},
   "outputs": [],
   "source": [
    "# Pure Python version\n",
    "def markov_python(states, probability, steps):\n",
    "    current_state = np.random.choice(states)  # Start in a random state\n",
    "    state_counts = np.zeros(len(states))  # Count occurrences of each state\n",
    "\n",
    "    for _ in range(steps):\n",
    "        state_counts[current_state] += 1\n",
    "        current_state = np.random.choice(states, p=probability[current_state])\n",
    "\n",
    "    return state_counts / steps  # Return fractions of time spent in each state"
   ]
  },
  {
   "cell_type": "code",
   "execution_count": 159,
   "id": "8697c719-7406-4465-b29c-c0ccc5dc9cf4",
   "metadata": {},
   "outputs": [],
   "source": [
    "# Numba version\n",
    "@njit\n",
    "def markov_numba(states, probability, steps):\n",
    "    current_state = np.random.choice(states)  # Start in a random state\n",
    "    state_counts = np.zeros(len(states))  # Count occurrences of each state\n",
    "\n",
    "    # Numba random number generation\n",
    "    for _ in range(steps):\n",
    "        state_counts[current_state] += 1\n",
    "        rand_val = np.random.random()\n",
    "        cumulative_prob = 0.0\n",
    "        for i in range(len(states)):\n",
    "            cumulative_prob += probability[current_state, i]\n",
    "            if rand_val < cumulative_prob:\n",
    "                current_state = states[i]\n",
    "                break\n",
    "\n",
    "    return state_counts / steps  # Return fractions of time spent in each state"
   ]
  },
  {
   "cell_type": "code",
   "execution_count": 166,
   "id": "7ea1ebcb-e265-448d-be46-0c60b6bd5fae",
   "metadata": {},
   "outputs": [],
   "source": [
    "_ = markov_numba(states, probability, 10) # Warm up Numba\n",
    "steps = 100000  # Number of iterations\n",
    "\n",
    "# Compare speeds\n",
    "# Pure Python\n",
    "start_time = time.time()\n",
    "fractions_python = markov_python(states, probability, steps)\n",
    "python_time = time.time() - start_time\n",
    "\n",
    "# Numba\n",
    "start_time = time.time()\n",
    "fractions_numba = markov_numba(states, probability, steps)\n",
    "numba_time = time.time() - start_time"
   ]
  },
  {
   "cell_type": "code",
   "execution_count": 168,
   "id": "b930c6be-73ab-4e2f-a119-dc07de75ed90",
   "metadata": {},
   "outputs": [
    {
     "name": "stdout",
     "output_type": "stream",
     "text": [
      "\n",
      "Pure Python Results:\n",
      "Bull: 0.4993\n",
      "Bear: 0.3352\n",
      "Recession: 0.1655\n",
      "Time taken: 7.1401 seconds\n",
      "\n",
      "Numba Results:\n",
      "Bull: 0.4981\n",
      "Bear: 0.3338\n",
      "Recession: 0.1681\n",
      "Time taken: 0.0040 seconds\n",
      "\n",
      "Numba is 1774.69x faster than Pure Python.\n"
     ]
    }
   ],
   "source": [
    "# Print results\n",
    "print(\"\\nPure Python Results:\")\n",
    "for i, state in enumerate([\"Bull\", \"Bear\", \"Recession\"]):\n",
    "    print(f\"{state}: {fractions_python[i]:.4f}\")\n",
    "print(f\"Time taken: {python_time:.4f} seconds\\n\")\n",
    "\n",
    "print(\"Numba Results:\")\n",
    "for i, state in enumerate([\"Bull\", \"Bear\", \"Recession\"]):\n",
    "    print(f\"{state}: {fractions_numba[i]:.4f}\")\n",
    "print(f\"Time taken: {numba_time:.4f} seconds\\n\")\n",
    "\n",
    "print(f\"Numba is {python_time/numba_time:.2f}x faster than Pure Python.\")"
   ]
  }
 ],
 "metadata": {
  "kernelspec": {
   "display_name": "Python [conda env:base] *",
   "language": "python",
   "name": "conda-base-py"
  },
  "language_info": {
   "codemirror_mode": {
    "name": "ipython",
    "version": 3
   },
   "file_extension": ".py",
   "mimetype": "text/x-python",
   "name": "python",
   "nbconvert_exporter": "python",
   "pygments_lexer": "ipython3",
   "version": "3.12.3"
  }
 },
 "nbformat": 4,
 "nbformat_minor": 5
}
